{
 "cells": [
  {
   "cell_type": "code",
   "execution_count": 1,
   "metadata": {},
   "outputs": [],
   "source": [
    "import tkinter as tk\n",
    "\n",
    "class ToolTip:\n",
    "    def __init__(self, widget, text):\n",
    "        self.widget = widget\n",
    "        self.text = text\n",
    "        self.tooltip_window = None\n",
    "        self.widget.bind(\"<Enter>\", self.show_tooltip)\n",
    "        self.widget.bind(\"<Leave>\", self.hide_tooltip)\n",
    "\n",
    "    def show_tooltip(self, event):\n",
    "        x, y, _, _ = self.widget.bbox(\"insert\")\n",
    "        x += self.widget.winfo_rootx() + 25\n",
    "        y += self.widget.winfo_rooty() + 25\n",
    "\n",
    "        self.tooltip_window = tk.Toplevel(self.widget)\n",
    "        self.tooltip_window.wm_overrideredirect(True)\n",
    "        self.tooltip_window.wm_geometry(f\"+{x}+{y}\")\n",
    "\n",
    "        label = tk.Label(self.tooltip_window, text=self.text, background=\"#ffffe0\", relief=\"solid\", borderwidth=1)\n",
    "        label.pack()\n",
    "\n",
    "    def hide_tooltip(self, event):\n",
    "        if self.tooltip_window:\n",
    "            self.tooltip_window.destroy()\n",
    "\n",
    "# Ejemplo de uso\n",
    "root = tk.Tk()\n",
    "\n",
    "button = tk.Button(root, text=\"Botón\")\n",
    "button.pack()\n",
    "\n",
    "tooltip = ToolTip(button, \"Esto es un botón\")\n",
    "\n",
    "root.mainloop()\n"
   ]
  }
 ],
 "metadata": {
  "kernelspec": {
   "display_name": "Python 3",
   "language": "python",
   "name": "python3"
  },
  "language_info": {
   "codemirror_mode": {
    "name": "ipython",
    "version": 3
   },
   "file_extension": ".py",
   "mimetype": "text/x-python",
   "name": "python",
   "nbconvert_exporter": "python",
   "pygments_lexer": "ipython3",
   "version": "3.11.1"
  },
  "orig_nbformat": 4
 },
 "nbformat": 4,
 "nbformat_minor": 2
}
