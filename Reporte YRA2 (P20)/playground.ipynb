{
 "cells": [
  {
   "cell_type": "code",
   "execution_count": 3,
   "metadata": {},
   "outputs": [
    {
     "ename": "com_error",
     "evalue": "(-2147352567, 'Exception occurred.', (614, 'saplgpad', 'The enumerator of the collection cannot find an element with the specified index.', 'C:\\\\Program Files (x86)\\\\SAP\\\\SAPGUI770\\\\SapGui\\\\saplgpad.HLP', 393215, 0), None)",
     "output_type": "error",
     "traceback": [
      "\u001b[1;31m---------------------------------------------------------------------------\u001b[0m",
      "\u001b[1;31mcom_error\u001b[0m                                 Traceback (most recent call last)",
      "Cell \u001b[1;32mIn[3], line 25\u001b[0m\n\u001b[0;32m     21\u001b[0m     SapGuiAuto \u001b[39m=\u001b[39m \u001b[39mNone\u001b[39;00m\n\u001b[0;32m     23\u001b[0m     \u001b[39mpass\u001b[39;00m\n\u001b[1;32m---> 25\u001b[0m connection \u001b[39m=\u001b[39m application\u001b[39m.\u001b[39;49mChildren(\u001b[39m0\u001b[39;49m)\n\u001b[0;32m     27\u001b[0m session \u001b[39m=\u001b[39m connection\u001b[39m.\u001b[39mChildren(\u001b[39m0\u001b[39m)\n\u001b[0;32m     29\u001b[0m \u001b[39mprint\u001b[39m(session)\n",
      "File \u001b[1;32mc:\\Users\\migumart\\AppData\\Local\\Programs\\Python\\Python311\\Lib\\site-packages\\win32com\\client\\dynamic.py:226\u001b[0m, in \u001b[0;36mCDispatch.__call__\u001b[1;34m(self, *args)\u001b[0m\n\u001b[0;32m    223\u001b[0m \u001b[39mif\u001b[39;00m invkind \u001b[39mis\u001b[39;00m \u001b[39mnot\u001b[39;00m \u001b[39mNone\u001b[39;00m:\n\u001b[0;32m    224\u001b[0m     allArgs \u001b[39m=\u001b[39m (dispid, LCID, invkind, \u001b[39m1\u001b[39m) \u001b[39m+\u001b[39m args\n\u001b[0;32m    225\u001b[0m     \u001b[39mreturn\u001b[39;00m \u001b[39mself\u001b[39m\u001b[39m.\u001b[39m_get_good_object_(\n\u001b[1;32m--> 226\u001b[0m         \u001b[39mself\u001b[39;49m\u001b[39m.\u001b[39;49m_oleobj_\u001b[39m.\u001b[39;49mInvoke(\u001b[39m*\u001b[39;49mallArgs), \u001b[39mself\u001b[39m\u001b[39m.\u001b[39m_olerepr_\u001b[39m.\u001b[39mdefaultDispatchName, \u001b[39mNone\u001b[39;00m\n\u001b[0;32m    227\u001b[0m     )\n\u001b[0;32m    228\u001b[0m \u001b[39mraise\u001b[39;00m \u001b[39mTypeError\u001b[39;00m(\u001b[39m\"\u001b[39m\u001b[39mThis dispatch object does not define a default method\u001b[39m\u001b[39m\"\u001b[39m)\n",
      "\u001b[1;31mcom_error\u001b[0m: (-2147352567, 'Exception occurred.', (614, 'saplgpad', 'The enumerator of the collection cannot find an element with the specified index.', 'C:\\\\Program Files (x86)\\\\SAP\\\\SAPGUI770\\\\SapGui\\\\saplgpad.HLP', 393215, 0), None)"
     ]
    }
   ],
   "source": [
    "import win32com\n",
    "\n",
    "import win32com.client\n",
    "\n",
    "import os\n",
    "\n",
    "from datetime import datetime\n",
    "\n",
    "import pandas as pd\n",
    "\n",
    "SapGuiAuto = win32com.client.GetObject('SAPGUI')\n",
    "\n",
    "if not type(SapGuiAuto) == win32com.client.CDispatch:\n",
    "\n",
    "    pass\n",
    "\n",
    "application = SapGuiAuto.GetScriptingEngine\n",
    "\n",
    "if not type(application) == win32com.client.CDispatch:\n",
    "\n",
    "    SapGuiAuto = None\n",
    "\n",
    "    pass\n",
    "\n",
    "connection = application.Children(0)\n",
    "\n",
    "session = connection.Children(0)\n",
    "\n",
    "print(session)\n",
    "print(connection)"
   ]
  },
  {
   "cell_type": "code",
   "execution_count": 17,
   "metadata": {},
   "outputs": [
    {
     "name": "stdout",
     "output_type": "stream",
     "text": [
      "<COMObject SAPGUI>\n",
      "['AsStdNumberFormat', 'ClearErrorList', 'CreateSession', 'EnableJawsEvents', 'EndTransaction', 'FindById', 'FindByPosition', 'GetIconResourceName', 'GetObjectTree', 'GetVKeyDescription', 'LockSessionUI', 'RunScriptControl', 'SendCommand', 'SendCommandAsync', 'SendMenu', 'StartTransaction', 'UnlockSessionUI', '_ApplyTypes_', '_FlagAsMethod', '_LazyAddAttr_', '_NewEnum', '_Release_', '_UpdateWithITypeInfo_', '__AttrToID__', '__LazyMap__', '__bool__', '__call__', '__class__', '__delattr__', '__dict__', '__dir__', '__doc__', '__eq__', '__format__', '__ge__', '__getattr__', '__getattribute__', '__getitem__', '__getstate__', '__gt__', '__hash__', '__init__', '__init_subclass__', '__int__', '__le__', '__len__', '__lt__', '__module__', '__ne__', '__new__', '__reduce__', '__reduce_ex__', '__repr__', '__setattr__', '__setitem__', '__sizeof__', '__str__', '__subclasshook__', '__weakref__', '_builtMethods_', '_dir_ole_', '_enum_', '_find_dispatch_type_', '_get_good_object_', '_get_good_single_object_', '_lazydata_', '_make_method_', '_mapCachedItems_', '_oleobj_', '_olerepr_', '_print_details_', '_proc_', '_unicode_to_string_', '_username_', '_wrap_dispatch_']\n"
     ]
    },
    {
     "ename": "AttributeError",
     "evalue": "<unknown>.dir",
     "output_type": "error",
     "traceback": [
      "\u001b[1;31m---------------------------------------------------------------------------\u001b[0m",
      "\u001b[1;31mAttributeError\u001b[0m                            Traceback (most recent call last)",
      "Cell \u001b[1;32mIn[17], line 36\u001b[0m\n\u001b[0;32m     33\u001b[0m session \u001b[39m=\u001b[39m connection\u001b[39m.\u001b[39mChildren(\u001b[39m0\u001b[39m)\n\u001b[0;32m     35\u001b[0m \u001b[39mprint\u001b[39m(\u001b[39mdir\u001b[39m(session))\n\u001b[1;32m---> 36\u001b[0m \u001b[39mprint\u001b[39m(connection\u001b[39m.\u001b[39;49mdir())\n",
      "File \u001b[1;32mc:\\Users\\migumart\\AppData\\Local\\Programs\\Python\\Python311\\Lib\\site-packages\\win32com\\client\\dynamic.py:639\u001b[0m, in \u001b[0;36mCDispatch.__getattr__\u001b[1;34m(self, attr)\u001b[0m\n\u001b[0;32m    636\u001b[0m     \u001b[39mreturn\u001b[39;00m \u001b[39mself\u001b[39m\u001b[39m.\u001b[39m_get_good_object_(ret)\n\u001b[0;32m    638\u001b[0m \u001b[39m# no where else to look.\u001b[39;00m\n\u001b[1;32m--> 639\u001b[0m \u001b[39mraise\u001b[39;00m \u001b[39mAttributeError\u001b[39;00m(\u001b[39m\"\u001b[39m\u001b[39m%s\u001b[39;00m\u001b[39m.\u001b[39m\u001b[39m%s\u001b[39;00m\u001b[39m\"\u001b[39m \u001b[39m%\u001b[39m (\u001b[39mself\u001b[39m\u001b[39m.\u001b[39m_username_, attr))\n",
      "\u001b[1;31mAttributeError\u001b[0m: <unknown>.dir"
     ]
    }
   ],
   "source": [
    "import win32com\n",
    "\n",
    "import win32com.client\n",
    "\n",
    "import os\n",
    "\n",
    "from datetime import datetime\n",
    "\n",
    "import pandas as pd\n",
    "\n",
    "\n",
    "\n",
    "\n",
    "\n",
    "SapGuiAuto = win32com.client.GetObject('SAPGUI')\n",
    "\n",
    "print(SapGuiAuto)\n",
    "\n",
    "if not type(SapGuiAuto) == win32com.client.CDispatch:\n",
    "\n",
    "    pass\n",
    "\n",
    "application = SapGuiAuto.GetScriptingEngine\n",
    "\n",
    "if not type(application) == win32com.client.CDispatch:\n",
    "\n",
    "    SapGuiAuto = None\n",
    "\n",
    "    pass\n",
    "\n",
    "connection = application.Children(0)\n",
    "\n",
    "session = connection.Children(0)\n",
    "\n",
    "print(session)\n",
    "print(connection)\n"
   ]
  }
 ],
 "metadata": {
  "kernelspec": {
   "display_name": "Python 3",
   "language": "python",
   "name": "python3"
  },
  "language_info": {
   "codemirror_mode": {
    "name": "ipython",
    "version": 3
   },
   "file_extension": ".py",
   "mimetype": "text/x-python",
   "name": "python",
   "nbconvert_exporter": "python",
   "pygments_lexer": "ipython3",
   "version": "3.11.1"
  },
  "orig_nbformat": 4
 },
 "nbformat": 4,
 "nbformat_minor": 2
}
