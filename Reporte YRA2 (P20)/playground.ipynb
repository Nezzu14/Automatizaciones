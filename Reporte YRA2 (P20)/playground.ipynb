{
 "cells": [
  {
   "cell_type": "code",
   "execution_count": 5,
   "metadata": {},
   "outputs": [
    {
     "name": "stdout",
     "output_type": "stream",
     "text": [
      "Couldn't connect to application because sap reach the maximum number of sessions\n",
      "==============================================================================================================\n",
      "====FINALIZACION DE -SAP LOGIN-\n",
      "==============================================================================================================\n",
      "\n"
     ]
    }
   ],
   "source": [
    "import tkinter as tk\n",
    "import pickle\n",
    "import os\n",
    "import sys\n",
    "import subprocess\n",
    "import time\n",
    "from datetime import datetime\n",
    "from tkinter import *\n",
    "import win32gui\n",
    "import win32com.client as win32\n",
    "import requests\n",
    "import shutil\n",
    "import pandas as pd\n",
    "import pyperclip\n",
    "\n",
    "# ----Path del ejecutable de SAP\n",
    "username=\"migumart\"\n",
    "password=\"PlazaClaro2023..\"\n",
    "\n",
    "path = r\"C:\\Program Files (x86)\\SAP\\SAPGUI770\\SAPgui\\saplogon.exe\"\n",
    "subprocess.Popen(path)\n",
    "hwnd = 0\n",
    "start_time = time.time()\n",
    "while not hwnd:\n",
    "     hwnd = win32gui.FindWindow(None, 'SAP Logon 770')\n",
    "     if time.time() - start_time > 30:\n",
    "          # Si se supera el tiempo máximo de espera, se sale de la función\n",
    "        time.sleep(0.5) \n",
    "\n",
    "# ----Detecta la ventana de SAP\n",
    "SapGuiAuto = win32.GetObject('SAPGUI')\n",
    "  \n",
    "application = SapGuiAuto.GetScriptingEngine\n",
    "connection = application.OpenConnection(\"- P20 Production ERP Logistics and Finance\", True)\n",
    "session = connection.Sessions(0)\n",
    "\n",
    "\n",
    "if not type(application) == win32.CDispatch:\n",
    "    SapGuiAuto = None\n",
    "    \n",
    "\n",
    "# ----Si no hay sesiones abiertas se ejecuta SAP de cero\n",
    "if application.Connections.Count==0 : \n",
    "    connection = application.OpenConnection(\"- P20 Production ERP Logistics and Finance\", True)\n",
    "    session = connection.Sessions(0)\n",
    "    # ----Ingreso de Usuario y Contraseña\n",
    "    session.findById(\"wnd[0]/usr/txtRSYST-BNAME\").text = username\n",
    "    session.findById(\"wnd[0]/usr/pwdRSYST-BCODE\").text = password\n",
    "    session.findById(\"wnd[0]\").sendVKey(0)\n",
    "else: \n",
    "    # ----Si ya hay sesiones abiertas con el acceso del usuario entonces se abrira una sesion aparte y se empezara a ejecitar el proceso de descarga de YRA2\n",
    "    # ----Se abrira solo hasta el maximo de 6 sesiones, si ya hay 6 sesiones abiertas entonces arrojara un error, el cual es el de \"except\"\n",
    "    if application.Connections.Count<1:\n",
    "          connection= application.Connections(0)\n",
    "          session = connection.Sessions(0)\n",
    "          session.CreateSession()\n",
    "          session=connection.Sessions(connection.Sessions.Count -1)\n",
    "    else:\n",
    "        print(\"Couldn't connect to application because sap reach the maximum number of sessions\")\n",
    "if not type(connection) == win32.CDispatch:\n",
    "    application = None\n",
    "    SapGuiAuto = None\n",
    "    \n",
    "if not type(session) == win32.CDispatch:\n",
    "    connection = None\n",
    "    application = None\n",
    "    SapGuiAuto = None\n",
    "    \n",
    "\n",
    "print(\"==============================================================================================================\")\n",
    "print(\"====FINALIZACION DE -SAP LOGIN-\")\n",
    "print(\"==============================================================================================================\\n\") \n",
    "username= username"
   ]
  },
  {
   "cell_type": "code",
   "execution_count": 29,
   "metadata": {},
   "outputs": [
    {
     "ename": "com_error",
     "evalue": "(-2147352573, 'Member not found.', None, None)",
     "output_type": "error",
     "traceback": [
      "\u001b[1;31m---------------------------------------------------------------------------\u001b[0m",
      "\u001b[1;31mcom_error\u001b[0m                                 Traceback (most recent call last)",
      "Cell \u001b[1;32mIn[29], line 12\u001b[0m\n\u001b[0;32m      8\u001b[0m \u001b[39mif\u001b[39;00m \u001b[39mnot\u001b[39;00m \u001b[39mtype\u001b[39m(SapGuiAuto) \u001b[39m==\u001b[39m win32com\u001b[39m.\u001b[39mclient\u001b[39m.\u001b[39mCDispatch:\n\u001b[0;32m     10\u001b[0m     \u001b[39mpass\u001b[39;00m\n\u001b[1;32m---> 12\u001b[0m application \u001b[39m=\u001b[39m SapGuiAuto\u001b[39m.\u001b[39;49mGetScriptingEngine()\n\u001b[0;32m     14\u001b[0m \u001b[39mif\u001b[39;00m \u001b[39mnot\u001b[39;00m \u001b[39mtype\u001b[39m(application) \u001b[39m==\u001b[39m win32com\u001b[39m.\u001b[39mclient\u001b[39m.\u001b[39mCDispatch:\n\u001b[0;32m     16\u001b[0m     SapGuiAuto \u001b[39m=\u001b[39m \u001b[39mNone\u001b[39;00m\n",
      "File \u001b[1;32mc:\\Users\\migumart\\AppData\\Local\\Programs\\Python\\Python311\\Lib\\site-packages\\win32com\\client\\dynamic.py:226\u001b[0m, in \u001b[0;36mCDispatch.__call__\u001b[1;34m(self, *args)\u001b[0m\n\u001b[0;32m    223\u001b[0m \u001b[39mif\u001b[39;00m invkind \u001b[39mis\u001b[39;00m \u001b[39mnot\u001b[39;00m \u001b[39mNone\u001b[39;00m:\n\u001b[0;32m    224\u001b[0m     allArgs \u001b[39m=\u001b[39m (dispid, LCID, invkind, \u001b[39m1\u001b[39m) \u001b[39m+\u001b[39m args\n\u001b[0;32m    225\u001b[0m     \u001b[39mreturn\u001b[39;00m \u001b[39mself\u001b[39m\u001b[39m.\u001b[39m_get_good_object_(\n\u001b[1;32m--> 226\u001b[0m         \u001b[39mself\u001b[39;49m\u001b[39m.\u001b[39;49m_oleobj_\u001b[39m.\u001b[39;49mInvoke(\u001b[39m*\u001b[39;49mallArgs), \u001b[39mself\u001b[39m\u001b[39m.\u001b[39m_olerepr_\u001b[39m.\u001b[39mdefaultDispatchName, \u001b[39mNone\u001b[39;00m\n\u001b[0;32m    227\u001b[0m     )\n\u001b[0;32m    228\u001b[0m \u001b[39mraise\u001b[39;00m \u001b[39mTypeError\u001b[39;00m(\u001b[39m\"\u001b[39m\u001b[39mThis dispatch object does not define a default method\u001b[39m\u001b[39m\"\u001b[39m)\n",
      "\u001b[1;31mcom_error\u001b[0m: (-2147352573, 'Member not found.', None, None)"
     ]
    }
   ],
   "source": [
    "import win32com\n",
    "\n",
    "import win32com.client\n",
    "\n",
    "\n",
    "SapGuiAuto = win32com.client.GetObject('SAPGUI')\n",
    "\n",
    "if not type(SapGuiAuto) == win32com.client.CDispatch:\n",
    "\n",
    "    pass\n",
    "\n",
    "application = SapGuiAuto.GetScriptingEngine\n",
    "\n",
    "if not type(application) == win32com.client.CDispatch:\n",
    "\n",
    "    SapGuiAuto = None\n",
    "\n",
    "    pass\n",
    "\n",
    "connection = application.Children(0)\n",
    "\n",
    "session = connection.Children(0)\n",
    "\n",
    "session_num=connection.Children\n",
    "session_count=session.count\n",
    "\n",
    "\n",
    "print(session)\n",
    "\n",
    "print(session_count)\n",
    "\n",
    "\n",
    "\n",
    "\n",
    "#pegar=session.findById(\"wnd[1]/tbar[0]/btn[24]\").press() # ----Este press es el que pega el portapapeles de los WBS\n"
   ]
  },
  {
   "cell_type": "code",
   "execution_count": 25,
   "metadata": {},
   "outputs": [
    {
     "name": "stderr",
     "output_type": "stream",
     "text": [
      "C:\\Users\\migumart\\AppData\\Local\\Temp\\ipykernel_21528\\2350091394.py:4: DeprecationWarning: Method .Connect() is deprecated, use .connect() instead.\n",
      "  app = application.Application().Connect(title='SAP')\n"
     ]
    },
    {
     "ename": "ElementNotFoundError",
     "evalue": "{'title': 'SAP', 'backend': 'win32', 'visible_only': False}",
     "output_type": "error",
     "traceback": [
      "\u001b[1;31m---------------------------------------------------------------------------\u001b[0m",
      "\u001b[1;31mElementNotFoundError\u001b[0m                      Traceback (most recent call last)",
      "Cell \u001b[1;32mIn[25], line 4\u001b[0m\n\u001b[0;32m      1\u001b[0m \u001b[39mfrom\u001b[39;00m \u001b[39mpywinauto\u001b[39;00m \u001b[39mimport\u001b[39;00m application\n\u001b[0;32m      2\u001b[0m \u001b[39mfrom\u001b[39;00m \u001b[39mpywinauto\u001b[39;00m \u001b[39mimport\u001b[39;00m timings\n\u001b[1;32m----> 4\u001b[0m app \u001b[39m=\u001b[39m application\u001b[39m.\u001b[39;49mApplication()\u001b[39m.\u001b[39;49mConnect(title\u001b[39m=\u001b[39;49m\u001b[39m'\u001b[39;49m\u001b[39mSAP\u001b[39;49m\u001b[39m'\u001b[39;49m)\n\u001b[0;32m      5\u001b[0m wnd \u001b[39m=\u001b[39m app\u001b[39m.\u001b[39mtop_window()\n\u001b[0;32m      6\u001b[0m descendants \u001b[39m=\u001b[39m wnd\u001b[39m.\u001b[39mGuiComponentDescendants()\n",
      "File \u001b[1;32mc:\\Users\\migumart\\AppData\\Local\\Programs\\Python\\Python311\\Lib\\site-packages\\pywinauto\\__init__.py:50\u001b[0m, in \u001b[0;36mdeprecated.<locals>.wrap\u001b[1;34m(*args, **kwargs)\u001b[0m\n\u001b[0;32m     47\u001b[0m warnings\u001b[39m.\u001b[39msimplefilter(\u001b[39m\"\u001b[39m\u001b[39mdefault\u001b[39m\u001b[39m\"\u001b[39m, \u001b[39mDeprecationWarning\u001b[39;00m)\n\u001b[0;32m     48\u001b[0m warnings\u001b[39m.\u001b[39mwarn(\u001b[39m\"\u001b[39m\u001b[39mMethod .\u001b[39m\u001b[39m{}\u001b[39;00m\u001b[39m() is deprecated, use .\u001b[39m\u001b[39m{}\u001b[39;00m\u001b[39m() instead.\u001b[39m\u001b[39m\"\u001b[39m \\\n\u001b[0;32m     49\u001b[0m     \u001b[39m\"\u001b[39m\u001b[39m\"\u001b[39m\u001b[39m.\u001b[39mformat(deprecated_name, method\u001b[39m.\u001b[39m\u001b[39m__name__\u001b[39m), \u001b[39mDeprecationWarning\u001b[39;00m, stacklevel\u001b[39m=\u001b[39m\u001b[39m2\u001b[39m)\n\u001b[1;32m---> 50\u001b[0m \u001b[39mreturn\u001b[39;00m method(\u001b[39m*\u001b[39;49margs, \u001b[39m*\u001b[39;49m\u001b[39m*\u001b[39;49mkwargs)\n",
      "File \u001b[1;32mc:\\Users\\migumart\\AppData\\Local\\Programs\\Python\\Python311\\Lib\\site-packages\\pywinauto\\application.py:997\u001b[0m, in \u001b[0;36mApplication.connect\u001b[1;34m(self, **kwargs)\u001b[0m\n\u001b[0;32m    990\u001b[0m         \u001b[39mself\u001b[39m\u001b[39m.\u001b[39mprocess \u001b[39m=\u001b[39m timings\u001b[39m.\u001b[39mwait_until_passes(\n\u001b[0;32m    991\u001b[0m                 timeout, retry_interval, findwindows\u001b[39m.\u001b[39mfind_element,\n\u001b[0;32m    992\u001b[0m                 exceptions\u001b[39m=\u001b[39m(findwindows\u001b[39m.\u001b[39mElementNotFoundError, findbestmatch\u001b[39m.\u001b[39mMatchError,\n\u001b[0;32m    993\u001b[0m                             controls\u001b[39m.\u001b[39mInvalidWindowHandle, controls\u001b[39m.\u001b[39mInvalidElement),\n\u001b[0;32m    994\u001b[0m                 \u001b[39m*\u001b[39m(), \u001b[39m*\u001b[39m\u001b[39m*\u001b[39mkwargs\n\u001b[0;32m    995\u001b[0m             )\u001b[39m.\u001b[39mprocess_id\n\u001b[0;32m    996\u001b[0m     \u001b[39melse\u001b[39;00m:\n\u001b[1;32m--> 997\u001b[0m         \u001b[39mself\u001b[39m\u001b[39m.\u001b[39mprocess \u001b[39m=\u001b[39m findwindows\u001b[39m.\u001b[39;49mfind_element(\u001b[39m*\u001b[39;49m\u001b[39m*\u001b[39;49mkwargs)\u001b[39m.\u001b[39mprocess_id\n\u001b[0;32m    998\u001b[0m     connected \u001b[39m=\u001b[39m \u001b[39mTrue\u001b[39;00m\n\u001b[0;32m   1000\u001b[0m \u001b[39mif\u001b[39;00m \u001b[39mnot\u001b[39;00m connected:\n",
      "File \u001b[1;32mc:\\Users\\migumart\\AppData\\Local\\Programs\\Python\\Python311\\Lib\\site-packages\\pywinauto\\findwindows.py:87\u001b[0m, in \u001b[0;36mfind_element\u001b[1;34m(**kwargs)\u001b[0m\n\u001b[0;32m     84\u001b[0m elements \u001b[39m=\u001b[39m find_elements(\u001b[39m*\u001b[39m\u001b[39m*\u001b[39mkwargs)\n\u001b[0;32m     86\u001b[0m \u001b[39mif\u001b[39;00m \u001b[39mnot\u001b[39;00m elements:\n\u001b[1;32m---> 87\u001b[0m     \u001b[39mraise\u001b[39;00m ElementNotFoundError(kwargs)\n\u001b[0;32m     89\u001b[0m \u001b[39mif\u001b[39;00m \u001b[39mlen\u001b[39m(elements) \u001b[39m>\u001b[39m \u001b[39m1\u001b[39m:\n\u001b[0;32m     90\u001b[0m     exception \u001b[39m=\u001b[39m ElementAmbiguousError(\n\u001b[0;32m     91\u001b[0m         \u001b[39m\"\u001b[39m\u001b[39mThere are \u001b[39m\u001b[39m{0}\u001b[39;00m\u001b[39m elements that match the criteria \u001b[39m\u001b[39m{1}\u001b[39;00m\u001b[39m\"\u001b[39m\u001b[39m.\u001b[39mformat(\n\u001b[0;32m     92\u001b[0m             \u001b[39mlen\u001b[39m(elements),\n\u001b[0;32m     93\u001b[0m             six\u001b[39m.\u001b[39mtext_type(kwargs),\n\u001b[0;32m     94\u001b[0m         )\n\u001b[0;32m     95\u001b[0m     )\n",
      "\u001b[1;31mElementNotFoundError\u001b[0m: {'title': 'SAP', 'backend': 'win32', 'visible_only': False}"
     ]
    }
   ],
   "source": [
    "from pywinauto import application\n",
    "from pywinauto import timings\n",
    "\n",
    "app = application.Application().Connect(title='SAP')\n",
    "wnd = app.top_window()\n",
    "descendants = wnd.GuiComponentDescendants()"
   ]
  }
 ],
 "metadata": {
  "kernelspec": {
   "display_name": "Python 3",
   "language": "python",
   "name": "python3"
  },
  "language_info": {
   "codemirror_mode": {
    "name": "ipython",
    "version": 3
   },
   "file_extension": ".py",
   "mimetype": "text/x-python",
   "name": "python",
   "nbconvert_exporter": "python",
   "pygments_lexer": "ipython3",
   "version": "3.11.1"
  },
  "orig_nbformat": 4
 },
 "nbformat": 4,
 "nbformat_minor": 2
}
